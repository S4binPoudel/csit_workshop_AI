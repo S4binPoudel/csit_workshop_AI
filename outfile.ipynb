{
 "cells": [
  {
   "cell_type": "code",
   "execution_count": 2,
   "id": "096efa55",
   "metadata": {},
   "outputs": [],
   "source": [
    "import pandas as pd\n",
    "from sklearn.tree import DecisionTreeClassifier\n",
    "from sklearn import tree"
   ]
  },
  {
   "cell_type": "code",
   "execution_count": 6,
   "id": "ab92092f",
   "metadata": {},
   "outputs": [],
   "source": [
    "data = pd.read_csv(\"list.csv\")\n",
    "data\n",
    "X= data.drop(columns=['PRICE'])\n",
    "Y = data['PRICE']\n",
    "model = DecisionTreeClassifier()\n",
    "model.fit(X,Y)\n",
    "\n",
    "tree.export_graphviz(model,out_file='weight-recommender.dot',feature_names=['HOUSE' ,'ROOM' ,'FLOOR' ,'AGE'],\n",
    "                    label='all',\n",
    "                     rounded=True,\n",
    "                     filled=True \n",
    "                    )"
   ]
  }
 ],
 "metadata": {
  "kernelspec": {
   "display_name": "Python 3 (ipykernel)",
   "language": "python",
   "name": "python3"
  },
  "language_info": {
   "codemirror_mode": {
    "name": "ipython",
    "version": 3
   },
   "file_extension": ".py",
   "mimetype": "text/x-python",
   "name": "python",
   "nbconvert_exporter": "python",
   "pygments_lexer": "ipython3",
   "version": "3.11.3"
  }
 },
 "nbformat": 4,
 "nbformat_minor": 5
}
