{
 "cells": [
  {
   "cell_type": "code",
   "execution_count": 2,
   "id": "074dee55",
   "metadata": {
    "scrolled": true
   },
   "outputs": [
    {
     "data": {
      "text/plain": [
       "['score-predict.joblib']"
      ]
     },
     "execution_count": 2,
     "metadata": {},
     "output_type": "execute_result"
    }
   ],
   "source": [
    "import pandas as pd\n",
    "from sklearn.tree import DecisionTreeClassifier\n",
    "from sklearn.model_selection import train_test_split\n",
    "from sklearn.metrics import accuracy_score\n",
    "import joblib\n",
    "\n",
    "data = pd.read_csv(\"study.csv\")\n",
    "X = data.drop(columns=['Exam_score'])\n",
    "y= data['Exam_score']\n",
    "\n",
    "X_train,x_test,Y_train,y_test=train_test_split(X,y,test_size=0.3)\n",
    "\n",
    "model = DecisionTreeClassifier()\n",
    "model.fit(X_train,Y_train)\n",
    "joblib.dump('model','score-predict.joblib')\n",
    "\n",
    "#prediction = model.predict([[10,2,0]]) \n",
    "#checker = model.predict(x_test)\n",
    "#score= accuracy_score(y_test,checker)\n",
    "#score"
   ]
  },
  {
   "cell_type": "code",
   "execution_count": null,
   "id": "dc726280",
   "metadata": {},
   "outputs": [],
   "source": []
  }
 ],
 "metadata": {
  "kernelspec": {
   "display_name": "Python 3 (ipykernel)",
   "language": "python",
   "name": "python3"
  },
  "language_info": {
   "codemirror_mode": {
    "name": "ipython",
    "version": 3
   },
   "file_extension": ".py",
   "mimetype": "text/x-python",
   "name": "python",
   "nbconvert_exporter": "python",
   "pygments_lexer": "ipython3",
   "version": "3.11.3"
  }
 },
 "nbformat": 4,
 "nbformat_minor": 5
}
