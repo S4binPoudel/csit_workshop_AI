{
 "cells": [
  {
   "cell_type": "code",
   "execution_count": 12,
   "id": "437c05f9",
   "metadata": {},
   "outputs": [
    {
     "data": {
      "text/plain": [
       "['house-price.joblib']"
      ]
     },
     "execution_count": 12,
     "metadata": {},
     "output_type": "execute_result"
    }
   ],
   "source": [
    "import pandas as pd\n",
    "from sklearn.tree import DecisionTreeClassifier\n",
    "import joblib\n",
    "data = pd.read_csv('list.csv') \n",
    "X = data.drop(columns=['PRICE'])\n",
    "Y = data['PRICE']\n",
    "model = DecisionTreeClassifier()\n",
    "model.fit(X,Y)\n",
    "joblib.dump(model,'house-price.joblib')\n",
    "\n"
   ]
  },
  {
   "cell_type": "code",
   "execution_count": null,
   "id": "d7e83361",
   "metadata": {},
   "outputs": [],
   "source": []
  },
  {
   "cell_type": "code",
   "execution_count": null,
   "id": "b7adf067",
   "metadata": {},
   "outputs": [],
   "source": []
  }
 ],
 "metadata": {
  "kernelspec": {
   "display_name": "Python 3 (ipykernel)",
   "language": "python",
   "name": "python3"
  },
  "language_info": {
   "codemirror_mode": {
    "name": "ipython",
    "version": 3
   },
   "file_extension": ".py",
   "mimetype": "text/x-python",
   "name": "python",
   "nbconvert_exporter": "python",
   "pygments_lexer": "ipython3",
   "version": "3.11.3"
  }
 },
 "nbformat": 4,
 "nbformat_minor": 5
}
